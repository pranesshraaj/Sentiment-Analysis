{
 "cells": [
  {
   "cell_type": "code",
   "execution_count": 1,
   "metadata": {},
   "outputs": [],
   "source": [
    "import tweepy"
   ]
  },
  {
   "cell_type": "code",
   "execution_count": 2,
   "metadata": {},
   "outputs": [],
   "source": [
    "from textblob import TextBlob"
   ]
  },
  {
   "cell_type": "code",
   "execution_count": 4,
   "metadata": {},
   "outputs": [
    {
     "name": "stdout",
     "output_type": "stream",
     "text": [
      "RT @PediatriaOggi: Dramma #Australia \n",
      "Tutto in una foto ...♥️\n",
      "#AustraliaFires #AustralianFires #Australian #AustraliaBushfires #AustraliaIs…\n",
      "Sentiment(polarity=0.0, subjectivity=0.0)\n",
      "\n",
      "RT @mohitsinghbg: P R A Y F O R A U S T R A L I A🇦🇺\n",
      "&gt; 19 peoples were dead\n",
      "&gt; Approx.500 million animals dead\n",
      "&gt; 8,000 koalas were dead\n",
      "&gt; Ove…\n",
      "Sentiment(polarity=0.037500000000000006, subjectivity=0.5499999999999999)\n",
      "\n",
      "RT @marcdamelio: $500 Donation made to Wires Australian Wildlife Rescue Organization from the D’Amelio Family TikTok Fans. Thank you TikTok…\n",
      "Sentiment(polarity=0.0, subjectivity=0.0)\n",
      "\n",
      "RT @mohitsinghbg: P R A Y F O R A U S T R A L I A🇦🇺\n",
      "&gt; 19 peoples were dead\n",
      "&gt; Approx.500 million animals dead\n",
      "&gt; 8,000 koalas were dead\n",
      "&gt; Ove…\n",
      "Sentiment(polarity=0.037500000000000006, subjectivity=0.5499999999999999)\n",
      "\n",
      "RT @Animal_Watch: Horrific, surely the Australian camel population could be controlled humanly ( https://t.co/1ZF11os7Rz ) \n",
      "\n",
      "10,000 camels…\n",
      "Sentiment(polarity=-0.125, subjectivity=0.49722222222222223)\n",
      "\n",
      "RT @cm_merlin: #AustraliaFires #Australia #bushfires \n",
      "24 charged with deliberately starting Australia bushfires\n",
      "https://t.co/U6d07BwmYA\n",
      "Sentiment(polarity=0.0, subjectivity=0.1)\n",
      "\n",
      "RT @29Cheva_Patria: 🔴#AUSTRALIA EN LLAMAS🔴\n",
      "\n",
      "Mientras los focos están entre el enfrentamiento de EEUU e Irak, esto sucede en Australia. 🆘️…\n",
      "Sentiment(polarity=0.0, subjectivity=0.0)\n",
      "\n",
      "RT @arminvanbuuren: No words can describe this.. 🐨🌳 Find out what you can do to help:\n",
      "https://t.co/nll4zEVm6s #Australia @WWF_Australia htt…\n",
      "Sentiment(polarity=0.0, subjectivity=0.0)\n",
      "\n",
      "RT @TwoPaddocks: These great kids outside our #NewZealand supermarket raising money for the #PortMacquarie #koala Sanctuary and the #NSWRFS…\n",
      "Sentiment(polarity=0.4, subjectivity=0.4)\n",
      "\n",
      "RT @PediatriaOggi: Madre e figlio Koala salvati nell'incendio dell'#Australia.\n",
      "L’immagine riflette quello che gli animali sentono... Prega…\n",
      "Sentiment(polarity=0.0, subjectivity=0.0)\n",
      "\n",
      "RT @africamia_22: Cadena de oración masiva por #Australia 🐾🙏\n",
      "Por lluvias.\n",
      "Para que los animalitos sean salvados\n",
      "Por protección para los bom…\n",
      "Sentiment(polarity=0.0, subjectivity=0.0)\n",
      "\n",
      "RT @peta: #Australia is ON FIRE, in part because people refuse to stop eating and wearing animals, which are two of the leading causes of c…\n",
      "Sentiment(polarity=0.0, subjectivity=0.0)\n",
      "\n",
      "Enroll Yourself now for the free counseling session \n",
      "@Kolkata\n",
      "\n",
      "@TheCombineCompany #consultant #futurewithTCC… https://t.co/Z5ijsbyi6T\n",
      "Sentiment(polarity=0.4, subjectivity=0.8)\n",
      "\n",
      "We Didn’t Start the Fire! So? UN must do something immediately! Every country, every religion, every tribe shall ta… https://t.co/Wl6zpTmcuv\n",
      "Sentiment(polarity=0.0, subjectivity=0.0)\n",
      "\n",
      "This will be great.\n",
      "Planned Uni student protest planned for Friday in the CBD. Organised by a professional, red fla… https://t.co/jEEmUHCbJz\n",
      "Sentiment(polarity=0.3, subjectivity=0.2833333333333333)\n",
      "\n"
     ]
    }
   ],
   "source": [
    "consumer_key= 'Cs8O2Vhqr3jX1BYTBrcBmiEpl'\n",
    "consumer_secret= 'lKyLA0gsJ12R01YWmuCpLGyhVySSYE6fWIW0G9mr9xx4kZvHYY'\n",
    "\n",
    "access_token='292761881-gvWMepqmT8xPQrpczAqWv2JSEZRVTv4v0DFwog4P'\n",
    "access_token_secret='eSmngCvplKhuR2VGIV0uvm4uIjJnQIyu1YPsjTmga9Xt3'\n",
    "\n",
    "auth = tweepy.OAuthHandler(consumer_key, consumer_secret)\n",
    "auth.set_access_token(access_token, access_token_secret)\n",
    "\n",
    "api = tweepy.API(auth)\n",
    "\n",
    "#Step 3 - Retrieve Tweets\n",
    "public_tweets = api.search('#Australia')\n",
    "\n",
    "\n",
    "for tweet in public_tweets:\n",
    "    print(tweet.text)\n",
    "    \n",
    "    #Step 4 Perform Sentiment Analysis on Tweets\n",
    "    analysis = TextBlob(tweet.text)\n",
    "    print(analysis.sentiment)\n",
    "    print(\"\")"
   ]
  },
  {
   "cell_type": "code",
   "execution_count": null,
   "metadata": {},
   "outputs": [],
   "source": []
  }
 ],
 "metadata": {
  "kernelspec": {
   "display_name": "Python",
   "language": "python",
   "name": "conda-env-python-py"
  },
  "language_info": {
   "codemirror_mode": {
    "name": "ipython",
    "version": 3
   },
   "file_extension": ".py",
   "mimetype": "text/x-python",
   "name": "python",
   "nbconvert_exporter": "python",
   "pygments_lexer": "ipython3",
   "version": "3.6.7"
  }
 },
 "nbformat": 4,
 "nbformat_minor": 4
}
